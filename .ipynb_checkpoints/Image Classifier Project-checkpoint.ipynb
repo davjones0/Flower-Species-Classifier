{
 "cells": [
  {
   "cell_type": "markdown",
   "metadata": {},
   "source": [
    "# Developing an AI application\n",
    "\n",
    "Going forward, AI algorithms will be incorporated into more and more everyday applications. For example, you might want to include an image classifier in a smart phone app. To do this, you'd use a deep learning model trained on hundreds of thousands of images as part of the overall application architecture. A large part of software development in the future will be using these types of models as common parts of applications. \n",
    "\n",
    "In this project, you'll train an image classifier to recognize different species of flowers. You can imagine using something like this in a phone app that tells you the name of the flower your camera is looking at. In practice you'd train this classifier, then export it for use in your application. We'll be using [this dataset](http://www.robots.ox.ac.uk/~vgg/data/flowers/102/index.html) of 102 flower categories, you can see a few examples below. \n",
    "\n",
    "<img src='assets/Flowers.png' width=500px>\n",
    "\n",
    "The project is broken down into multiple steps:\n",
    "\n",
    "* Load and preprocess the image dataset\n",
    "* Train the image classifier on your dataset\n",
    "* Use the trained classifier to predict image content\n",
    "\n",
    "We'll lead you through each part which you'll implement in Python.\n",
    "\n",
    "When you've completed this project, you'll have an application that can be trained on any set of labeled images. Here your network will be learning about flowers and end up as a command line application. But, what you do with your new skills depends on your imagination and effort in building a dataset. For example, imagine an app where you take a picture of a car, it tells you what the make and model is, then looks up information about it. Go build your own dataset and make something new.\n",
    "\n",
    "First up is importing the packages you'll need. It's good practice to keep all the imports at the beginning of your code. As you work through this notebook and find you need to import a package, make sure to add the import up here."
   ]
  },
  {
   "cell_type": "code",
   "execution_count": 1,
   "metadata": {},
   "outputs": [],
   "source": [
    "# Imports here\n",
    "import torch\n",
    "from torch import nn, optim\n",
    "from torchvision import datasets, transforms, models"
   ]
  },
  {
   "cell_type": "markdown",
   "metadata": {},
   "source": [
    "## Load the data\n",
    "\n",
    "Here you'll use `torchvision` to load the data ([documentation](http://pytorch.org/docs/0.3.0/torchvision/index.html)). You can [download the data here](https://s3.amazonaws.com/content.udacity-data.com/courses/nd188/flower_data.zip). The dataset is split into two parts, training and validation. For the training, you'll want to apply transformations such as random scaling, cropping, and flipping. This will help the network generalize leading to better performance. If you use a pre-trained network, you'll also need to make sure the input data is resized to 224x224 pixels as required by the networks.\n",
    "\n",
    "The validation set is used to measure the model's performance on data it hasn't seen yet. For this you don't want any scaling or rotation transformations, but you'll need to resize then crop the images to the appropriate size.\n",
    "\n",
    "The pre-trained networks available from `torchvision` were trained on the ImageNet dataset where each color channel was normalized separately. For both sets you'll need to normalize the means and standard deviations of the images to what the network expects. For the means, it's `[0.485, 0.456, 0.406]` and for the standard deviations `[0.229, 0.224, 0.225]`, calculated from the ImageNet images.  These values will shift each color channel to be centered at 0 and range from -1 to 1."
   ]
  },
  {
   "cell_type": "code",
   "execution_count": 2,
   "metadata": {},
   "outputs": [],
   "source": [
    "data_dir = './flower_data'\n",
    "train_dir = data_dir + '/train'\n",
    "valid_dir = data_dir + '/valid'"
   ]
  },
  {
   "cell_type": "code",
   "execution_count": 3,
   "metadata": {},
   "outputs": [],
   "source": [
    "# TODO: Define your transforms for the training and validation sets\n",
    "data_transforms = {\n",
    "    \"train\": transforms.Compose([transforms.RandomRotation(30),\n",
    "                                transforms.RandomResizedCrop(224), \n",
    "                                transforms.RandomHorizontalFlip(), \n",
    "                                transforms.ToTensor(),\n",
    "                                transforms.Normalize([0.485, 0.456, 0.406], [0.229, 0.224, 0.225])]),\n",
    "    \"valid\": transforms.Compose([transforms.Resize(255), \n",
    "                                transforms.CenterCrop(224), \n",
    "                                transforms.ToTensor(),\n",
    "                                transforms.Normalize([0.485, 0.456, 0.406], [0.229, 0.224, 0.225])])\n",
    "}\n",
    "\n",
    "# TODO: Load the datasets with ImageFolder\n",
    "image_datasets = {\n",
    "    \"train\": datasets.ImageFolder(train_dir, transform=data_transforms[\"train\"]),\n",
    "    \"valid\": datasets.ImageFolder(valid_dir, transform=data_transforms[\"valid\"])\n",
    "}\n",
    "\n",
    "# TODO: Using the image datasets and the trainforms, define the dataloaders\n",
    "dataloaders = {\n",
    "    \"train\": torch.utils.data.DataLoader(image_datasets[\"train\"], batch_size=32, shuffle=True),\n",
    "    \"valid\": torch.utils.data.DataLoader(image_datasets[\"valid\"], batch_size=32)\n",
    "}\n"
   ]
  },
  {
   "cell_type": "markdown",
   "metadata": {},
   "source": [
    "### Label mapping\n",
    "\n",
    "You'll also need to load in a mapping from category label to category name. You can find this in the file `cat_to_name.json`. It's a JSON object which you can read in with the [`json` module](https://docs.python.org/2/library/json.html). This will give you a dictionary mapping the integer encoded categories to the actual names of the flowers."
   ]
  },
  {
   "cell_type": "code",
   "execution_count": 4,
   "metadata": {},
   "outputs": [],
   "source": [
    "import json\n",
    "\n",
    "with open('cat_to_name.json', 'r') as f:\n",
    "    cat_to_name = json.load(f)"
   ]
  },
  {
   "cell_type": "markdown",
   "metadata": {},
   "source": [
    "# Building and training the classifier\n",
    "\n",
    "Now that the data is ready, it's time to build and train the classifier. As usual, you should use one of the pretrained models from `torchvision.models` to get the image features. Build and train a new feed-forward classifier using those features.\n",
    "\n",
    "We're going to leave this part up to you. If you want to talk through it with someone, chat with your fellow students! You can also ask questions on the forums or join the instructors in office hours.\n",
    "\n",
    "Refer to [the rubric](https://review.udacity.com/#!/rubrics/1663/view) for guidance on successfully completing this section. Things you'll need to do:\n",
    "\n",
    "* Load a [pre-trained network](http://pytorch.org/docs/master/torchvision/models.html) (If you need a starting point, the VGG networks work great and are straightforward to use)\n",
    "* Define a new, untrained feed-forward network as a classifier, using ReLU activations and dropout\n",
    "* Train the classifier layers using backpropagation using the pre-trained network to get the features\n",
    "* Track the loss and accuracy on the validation set to determine the best hyperparameters\n",
    "\n",
    "We've left a cell open for you below, but use as many as you need. Our advice is to break the problem up into smaller parts you can run separately. Check that each part is doing what you expect, then move on to the next. You'll likely find that as you work through each part, you'll need to go back and modify your previous code. This is totally normal!\n",
    "\n",
    "When training make sure you're updating only the weights of the feed-forward network. You should be able to get the validation accuracy above 70% if you build everything right. Make sure to try different hyperparameters (learning rate, units in the classifier, epochs, etc) to find the best model. Save those hyperparameters to use as default values in the next part of the project."
   ]
  },
  {
   "cell_type": "code",
   "execution_count": 5,
   "metadata": {},
   "outputs": [],
   "source": [
    "# TODO: Build and train your network\n",
    "device = torch.device(\"cuda\" if torch.cuda.is_available() else \"cpu\")\n",
    "model = models.resnet152(pretrained=True)\n",
    "\n",
    "for param in model.parameters():\n",
    "    param.require_grad = False\n",
    "    \n",
    "classifier = nn.Sequential(nn.Linear(2048, 1024),\n",
    "                            nn.ReLU(),\n",
    "                            nn.Dropout(p=0.25),\n",
    "                            nn.Linear(1024, 102),\n",
    "                            nn.LogSoftmax(dim=1))\n",
    "\n",
    "model.fc = classifier\n",
    "\n",
    "model.load_state_dict(torch.load(\"progress.pt\"))\n",
    "    \n",
    "criterion = nn.NLLLoss()\n",
    "optimizer = optim.Adam(model.fc.parameters(), lr=0.001)"
   ]
  },
  {
   "cell_type": "code",
   "execution_count": 6,
   "metadata": {},
   "outputs": [
    {
     "name": "stdout",
     "output_type": "stream",
     "text": [
      "Epoch 1/100..train loss: 0.391..test loss: 0.206..Test accuracy: 0.952\n",
      "Validation Loss Decrease Saving Model...\n",
      "Epoch 2/100..train loss: 0.376..test loss: 0.211..Test accuracy: 0.945\n",
      "Epoch 3/100..train loss: 0.365..test loss: 0.200..Test accuracy: 0.950\n",
      "Validation Loss Decrease Saving Model...\n",
      "Epoch 4/100..train loss: 0.379..test loss: 0.203..Test accuracy: 0.952\n",
      "Epoch 5/100..train loss: 0.358..test loss: 0.196..Test accuracy: 0.958\n",
      "Validation Loss Decrease Saving Model...\n",
      "Epoch 6/100..train loss: 0.351..test loss: 0.197..Test accuracy: 0.956\n",
      "Epoch 7/100..train loss: 0.361..test loss: 0.203..Test accuracy: 0.950\n",
      "Epoch 8/100..train loss: 0.368..test loss: 0.193..Test accuracy: 0.955\n",
      "Validation Loss Decrease Saving Model...\n",
      "Epoch 9/100..train loss: 0.347..test loss: 0.187..Test accuracy: 0.957\n",
      "Validation Loss Decrease Saving Model...\n",
      "Epoch 10/100..train loss: 0.351..test loss: 0.195..Test accuracy: 0.955\n",
      "Epoch 11/100..train loss: 0.347..test loss: 0.196..Test accuracy: 0.955\n",
      "Epoch 12/100..train loss: 0.338..test loss: 0.204..Test accuracy: 0.951\n",
      "Epoch 13/100..train loss: 0.347..test loss: 0.200..Test accuracy: 0.955\n",
      "Epoch 14/100..train loss: 0.352..test loss: 0.191..Test accuracy: 0.956\n",
      "Epoch 15/100..train loss: 0.371..test loss: 0.188..Test accuracy: 0.965\n",
      "Epoch 16/100..train loss: 0.338..test loss: 0.195..Test accuracy: 0.955\n",
      "Epoch 17/100..train loss: 0.355..test loss: 0.196..Test accuracy: 0.950\n",
      "Epoch 18/100..train loss: 0.341..test loss: 0.193..Test accuracy: 0.952\n",
      "Epoch 19/100..train loss: 0.347..test loss: 0.191..Test accuracy: 0.950\n",
      "Epoch 20/100..train loss: 0.332..test loss: 0.194..Test accuracy: 0.952\n",
      "Epoch 21/100..train loss: 0.325..test loss: 0.198..Test accuracy: 0.957\n",
      "Epoch 22/100..train loss: 0.344..test loss: 0.203..Test accuracy: 0.946\n",
      "Epoch 23/100..train loss: 0.348..test loss: 0.203..Test accuracy: 0.954\n",
      "Epoch 24/100..train loss: 0.343..test loss: 0.202..Test accuracy: 0.954\n",
      "Epoch 25/100..train loss: 0.334..test loss: 0.194..Test accuracy: 0.955\n",
      "Epoch 26/100..train loss: 0.324..test loss: 0.197..Test accuracy: 0.952\n",
      "Epoch 27/100..train loss: 0.327..test loss: 0.197..Test accuracy: 0.958\n",
      "Epoch 28/100..train loss: 0.343..test loss: 0.190..Test accuracy: 0.958\n",
      "Epoch 29/100..train loss: 0.327..test loss: 0.195..Test accuracy: 0.956\n",
      "Epoch 30/100..train loss: 0.334..test loss: 0.186..Test accuracy: 0.961\n",
      "Validation Loss Decrease Saving Model...\n",
      "Epoch 31/100..train loss: 0.330..test loss: 0.186..Test accuracy: 0.958\n",
      "Validation Loss Decrease Saving Model...\n",
      "Epoch 32/100..train loss: 0.344..test loss: 0.194..Test accuracy: 0.952\n",
      "Epoch 33/100..train loss: 0.339..test loss: 0.192..Test accuracy: 0.954\n",
      "Epoch 34/100..train loss: 0.337..test loss: 0.195..Test accuracy: 0.956\n",
      "Epoch 35/100..train loss: 0.332..test loss: 0.193..Test accuracy: 0.956\n",
      "Epoch 36/100..train loss: 0.323..test loss: 0.189..Test accuracy: 0.958\n",
      "Epoch 37/100..train loss: 0.323..test loss: 0.192..Test accuracy: 0.956\n",
      "Epoch 38/100..train loss: 0.343..test loss: 0.183..Test accuracy: 0.954\n",
      "Validation Loss Decrease Saving Model...\n",
      "Epoch 39/100..train loss: 0.311..test loss: 0.192..Test accuracy: 0.955\n",
      "Epoch 40/100..train loss: 0.321..test loss: 0.197..Test accuracy: 0.957\n",
      "Epoch 41/100..train loss: 0.301..test loss: 0.193..Test accuracy: 0.960\n",
      "Epoch 42/100..train loss: 0.334..test loss: 0.186..Test accuracy: 0.957\n",
      "Epoch 43/100..train loss: 0.327..test loss: 0.198..Test accuracy: 0.955\n",
      "Epoch 44/100..train loss: 0.326..test loss: 0.192..Test accuracy: 0.952\n",
      "Epoch 45/100..train loss: 0.334..test loss: 0.182..Test accuracy: 0.958\n",
      "Validation Loss Decrease Saving Model...\n",
      "Epoch 46/100..train loss: 0.339..test loss: 0.186..Test accuracy: 0.962\n",
      "Epoch 47/100..train loss: 0.311..test loss: 0.188..Test accuracy: 0.956\n",
      "Epoch 48/100..train loss: 0.327..test loss: 0.195..Test accuracy: 0.955\n",
      "Epoch 49/100..train loss: 0.291..test loss: 0.191..Test accuracy: 0.951\n",
      "Epoch 50/100..train loss: 0.308..test loss: 0.194..Test accuracy: 0.957\n",
      "Epoch 51/100..train loss: 0.321..test loss: 0.198..Test accuracy: 0.955\n",
      "Epoch 52/100..train loss: 0.304..test loss: 0.189..Test accuracy: 0.960\n",
      "Epoch 53/100..train loss: 0.304..test loss: 0.198..Test accuracy: 0.956\n",
      "Epoch 54/100..train loss: 0.324..test loss: 0.189..Test accuracy: 0.961\n",
      "Epoch 55/100..train loss: 0.314..test loss: 0.190..Test accuracy: 0.952\n",
      "Epoch 56/100..train loss: 0.310..test loss: 0.201..Test accuracy: 0.960\n",
      "Epoch 57/100..train loss: 0.312..test loss: 0.196..Test accuracy: 0.958\n",
      "Epoch 58/100..train loss: 0.307..test loss: 0.189..Test accuracy: 0.956\n",
      "Epoch 59/100..train loss: 0.299..test loss: 0.189..Test accuracy: 0.960\n",
      "Epoch 60/100..train loss: 0.297..test loss: 0.186..Test accuracy: 0.960\n",
      "Epoch 61/100..train loss: 0.293..test loss: 0.192..Test accuracy: 0.957\n",
      "Epoch 62/100..train loss: 0.306..test loss: 0.198..Test accuracy: 0.955\n",
      "Epoch 63/100..train loss: 0.318..test loss: 0.193..Test accuracy: 0.957\n",
      "Epoch 64/100..train loss: 0.312..test loss: 0.190..Test accuracy: 0.960\n",
      "Epoch 65/100..train loss: 0.309..test loss: 0.196..Test accuracy: 0.961\n",
      "Epoch 66/100..train loss: 0.302..test loss: 0.193..Test accuracy: 0.956\n",
      "Epoch 67/100..train loss: 0.293..test loss: 0.186..Test accuracy: 0.955\n",
      "Epoch 68/100..train loss: 0.301..test loss: 0.195..Test accuracy: 0.951\n",
      "Epoch 69/100..train loss: 0.317..test loss: 0.185..Test accuracy: 0.960\n",
      "Epoch 70/100..train loss: 0.299..test loss: 0.190..Test accuracy: 0.952\n",
      "Epoch 71/100..train loss: 0.326..test loss: 0.183..Test accuracy: 0.960\n",
      "Epoch 72/100..train loss: 0.319..test loss: 0.182..Test accuracy: 0.958\n",
      "Epoch 73/100..train loss: 0.306..test loss: 0.185..Test accuracy: 0.962\n",
      "Epoch 74/100..train loss: 0.283..test loss: 0.185..Test accuracy: 0.955\n",
      "Epoch 75/100..train loss: 0.304..test loss: 0.189..Test accuracy: 0.956\n",
      "Epoch 76/100..train loss: 0.289..test loss: 0.191..Test accuracy: 0.952\n",
      "Epoch 77/100..train loss: 0.297..test loss: 0.191..Test accuracy: 0.961\n",
      "Epoch 78/100..train loss: 0.284..test loss: 0.179..Test accuracy: 0.965\n",
      "Validation Loss Decrease Saving Model...\n",
      "Epoch 79/100..train loss: 0.317..test loss: 0.185..Test accuracy: 0.961\n",
      "Epoch 80/100..train loss: 0.288..test loss: 0.188..Test accuracy: 0.957\n",
      "Epoch 81/100..train loss: 0.313..test loss: 0.188..Test accuracy: 0.960\n",
      "Epoch 82/100..train loss: 0.296..test loss: 0.197..Test accuracy: 0.958\n",
      "Epoch 83/100..train loss: 0.289..test loss: 0.192..Test accuracy: 0.957\n",
      "Epoch 84/100..train loss: 0.294..test loss: 0.197..Test accuracy: 0.963\n",
      "Epoch 85/100..train loss: 0.320..test loss: 0.190..Test accuracy: 0.951\n",
      "Epoch 86/100..train loss: 0.306..test loss: 0.184..Test accuracy: 0.956\n",
      "Epoch 87/100..train loss: 0.296..test loss: 0.186..Test accuracy: 0.957\n",
      "Epoch 88/100..train loss: 0.298..test loss: 0.186..Test accuracy: 0.954\n",
      "Epoch 89/100..train loss: 0.291..test loss: 0.183..Test accuracy: 0.958\n",
      "Epoch 90/100..train loss: 0.292..test loss: 0.195..Test accuracy: 0.958\n",
      "Epoch 91/100..train loss: 0.302..test loss: 0.180..Test accuracy: 0.961\n",
      "Epoch 92/100..train loss: 0.312..test loss: 0.175..Test accuracy: 0.960\n",
      "Validation Loss Decrease Saving Model...\n",
      "Epoch 93/100..train loss: 0.271..test loss: 0.176..Test accuracy: 0.954\n",
      "Epoch 94/100..train loss: 0.275..test loss: 0.182..Test accuracy: 0.955\n",
      "Epoch 95/100..train loss: 0.296..test loss: 0.187..Test accuracy: 0.956\n",
      "Epoch 96/100..train loss: 0.277..test loss: 0.183..Test accuracy: 0.955\n",
      "Epoch 97/100..train loss: 0.277..test loss: 0.176..Test accuracy: 0.957\n",
      "Epoch 98/100..train loss: 0.308..test loss: 0.183..Test accuracy: 0.957\n",
      "Epoch 99/100..train loss: 0.297..test loss: 0.180..Test accuracy: 0.957\n",
      "Epoch 100/100..train loss: 0.279..test loss: 0.181..Test accuracy: 0.952\n"
     ]
    }
   ],
   "source": [
    "model.to(device)\n",
    "\n",
    "epochs = 100\n",
    "steps = 0\n",
    "running_loss = 0\n",
    "print_every = len(dataloaders[\"train\"])\n",
    "test_loss_min = 9999\n",
    "\n",
    "testloader_len = len(dataloaders[\"valid\"].dataset)\n",
    "trainloader_len = len(dataloaders[\"train\"].dataset)\n",
    "\n",
    "gtrain_loss, gvalid_loss = [], []\n",
    "for epoch in range(epochs):\n",
    "    model.train()\n",
    "    for images, labels in  dataloaders[\"train\"]:\n",
    "        steps += 1\n",
    "        images, labels = images.to(device), labels.to(device)\n",
    "        optimizer.zero_grad()\n",
    "        \n",
    "        logps = model(images)\n",
    "        loss = criterion(logps, labels)\n",
    "        loss.backward()\n",
    "        optimizer.step()\n",
    "        \n",
    "        running_loss += loss.item()\n",
    "\n",
    "        if steps % print_every == 0:\n",
    "            model.eval()\n",
    "            test_loss = 0\n",
    "            accuracy = 0\n",
    "            \n",
    "            with torch.no_grad():   \n",
    "                for images, labels in dataloaders[\"valid\"]:\n",
    "                    images, labels = images.to(device), labels.to(device)\n",
    "                    logps = model(images)\n",
    "                    loss = criterion(logps, labels)\n",
    "                    test_loss += loss.item() * images.size(0)\n",
    "                \n",
    "                    #calc accuracy\n",
    "                    ps = torch.exp(logps)\n",
    "                    top_ps, top_class = ps.topk(1, dim=1)\n",
    "                    equality = top_class == labels.view(*top_class.shape)\n",
    "                    accuracy += torch.mean(equality.type(torch.FloatTensor)).item() * images.size(0)\n",
    "                \n",
    "            gtrain_loss.append(running_loss/trainloader_len)\n",
    "            gvalid_loss.append(test_loss/testloader_len)\n",
    "            print(f\"Epoch {epoch+1}/{epochs}..\"\n",
    "                    f\"train loss: {running_loss/print_every:.3f}..\"\n",
    "                    f\"test loss: {test_loss/testloader_len:.3f}..\"\n",
    "                    f\"Test accuracy: {accuracy/testloader_len:.3f}\")\n",
    "            \n",
    "            if (test_loss/testloader_len) <= (test_loss_min/testloader_len):\n",
    "                print(\"Validation Loss Decrease Saving Model...\")\n",
    "                torch.save(model.state_dict(), 'progress1.pt')\n",
    "                test_loss_min = test_loss\n",
    "              \n",
    "            running_loss = 0\n",
    "            model.train()\n",
    "                "
   ]
  },
  {
   "cell_type": "code",
   "execution_count": 7,
   "metadata": {},
   "outputs": [
    {
     "data": {
      "text/plain": [
       "[<matplotlib.lines.Line2D at 0x134e4969ef0>]"
      ]
     },
     "execution_count": 7,
     "metadata": {},
     "output_type": "execute_result"
    },
    {
     "data": {
      "image/png": "[encoded data removed]",
      "text/plain": [
       "<Figure size 432x288 with 1 Axes>"
      ]
     },
     "metadata": {
      "needs_background": "light"
     },
     "output_type": "display_data"
    }
   ],
   "source": [
    "%matplotlib inline\n",
    "import matplotlib.pyplot as plt\n",
    "plt.plot(gtrain_loss, label=\"Train\")\n",
    "plt.plot(gvalid_loss, label=\"Validation\")\n"
   ]
  },
  {
   "cell_type": "markdown",
   "metadata": {},
   "source": [
    "## Save the checkpoint\n",
    "\n",
    "Now that your network is trained, save the model so you can load it later for making predictions. You probably want to save other things such as the mapping of classes to indices which you get from one of the image datasets: `image_datasets['train'].class_to_idx`. You can attach this to the model as an attribute which makes inference easier later on.\n",
    "\n",
    "```model.class_to_idx = image_datasets['train'].class_to_idx```\n",
    "\n",
    "Remember that you'll want to completely rebuild the model later so you can use it for inference. Make sure to include any information you need in the checkpoint. If you want to load the model and keep training, you'll want to save the number of epochs as well as the optimizer state, `optimizer.state_dict`. You'll likely want to use this trained model in the next part of the project, so best to save it now."
   ]
  },
  {
   "cell_type": "code",
   "execution_count": null,
   "metadata": {},
   "outputs": [],
   "source": [
    "# TODO: Save the checkpoint "
   ]
  },
  {
   "cell_type": "markdown",
   "metadata": {},
   "source": [
    "## Loading the checkpoint\n",
    "\n",
    "At this point it's good to write a function that can load a checkpoint and rebuild the model. That way you can come back to this project and keep working on it without having to retrain the network."
   ]
  },
  {
   "cell_type": "code",
   "execution_count": null,
   "metadata": {},
   "outputs": [],
   "source": [
    "# TODO: Write a function that loads a checkpoint and rebuilds the model"
   ]
  },
  {
   "cell_type": "markdown",
   "metadata": {},
   "source": [
    "# Inference for classification\n",
    "\n",
    "Now you'll write a function to use a trained network for inference. That is, you'll pass an image into the network and predict the class of the flower in the image. Write a function called `predict` that takes an image and a model, then returns the top $K$ most likely classes along with the probabilities. It should look like \n",
    "\n",
    "```python\n",
    "probs, classes = predict(image_path, model)\n",
    "print(probs)\n",
    "print(classes)\n",
    "> [ 0.01558163  0.01541934  0.01452626  0.01443549  0.01407339]\n",
    "> ['70', '3', '45', '62', '55']\n",
    "```\n",
    "\n",
    "First you'll need to handle processing the input image such that it can be used in your network. \n",
    "\n",
    "## Image Preprocessing\n",
    "\n",
    "You'll want to use `PIL` to load the image ([documentation](https://pillow.readthedocs.io/en/latest/reference/Image.html)). It's best to write a function that preprocesses the image so it can be used as input for the model. This function should process the images in the same manner used for training. \n",
    "\n",
    "First, resize the images where the shortest side is 256 pixels, keeping the aspect ratio. This can be done with the [`thumbnail`](http://pillow.readthedocs.io/en/3.1.x/reference/Image.html#PIL.Image.Image.thumbnail) or [`resize`](http://pillow.readthedocs.io/en/3.1.x/reference/Image.html#PIL.Image.Image.thumbnail) methods. Then you'll need to crop out the center 224x224 portion of the image.\n",
    "\n",
    "Color channels of images are typically encoded as integers 0-255, but the model expected floats 0-1. You'll need to convert the values. It's easiest with a Numpy array, which you can get from a PIL image like so `np_image = np.array(pil_image)`.\n",
    "\n",
    "As before, the network expects the images to be normalized in a specific way. For the means, it's `[0.485, 0.456, 0.406]` and for the standard deviations `[0.229, 0.224, 0.225]`. You'll want to subtract the means from each color channel, then divide by the standard deviation. \n",
    "\n",
    "And finally, PyTorch expects the color channel to be the first dimension but it's the third dimension in the PIL image and Numpy array. You can reorder dimensions using [`ndarray.transpose`](https://docs.scipy.org/doc/numpy-1.13.0/reference/generated/numpy.ndarray.transpose.html). The color channel needs to be first and retain the order of the other two dimensions."
   ]
  },
  {
   "cell_type": "code",
   "execution_count": null,
   "metadata": {},
   "outputs": [],
   "source": [
    "def process_image(image):\n",
    "    ''' Scales, crops, and normalizes a PIL image for a PyTorch model,\n",
    "        returns an Numpy array\n",
    "    '''\n",
    "    \n",
    "    # TODO: Process a PIL image for use in a PyTorch model"
   ]
  },
  {
   "cell_type": "markdown",
   "metadata": {},
   "source": [
    "To check your work, the function below converts a PyTorch tensor and displays it in the notebook. If your `process_image` function works, running the output through this function should return the original image (except for the cropped out portions)."
   ]
  },
  {
   "cell_type": "code",
   "execution_count": null,
   "metadata": {},
   "outputs": [],
   "source": [
    "def imshow(image, ax=None, title=None):\n",
    "    \"\"\"Imshow for Tensor.\"\"\"\n",
    "    if ax is None:\n",
    "        fig, ax = plt.subplots()\n",
    "    \n",
    "    # PyTorch tensors assume the color channel is the first dimension\n",
    "    # but matplotlib assumes is the third dimension\n",
    "    image = image.numpy().transpose((1, 2, 0))\n",
    "    \n",
    "    # Undo preprocessing\n",
    "    mean = np.array([0.485, 0.456, 0.406])\n",
    "    std = np.array([0.229, 0.224, 0.225])\n",
    "    image = std * image + mean\n",
    "    \n",
    "    # Image needs to be clipped between 0 and 1 or it looks like noise when displayed\n",
    "    image = np.clip(image, 0, 1)\n",
    "    \n",
    "    ax.imshow(image)\n",
    "    \n",
    "    return ax"
   ]
  },
  {
   "cell_type": "markdown",
   "metadata": {},
   "source": [
    "## Class Prediction\n",
    "\n",
    "Once you can get images in the correct format, it's time to write a function for making predictions with your model. A common practice is to predict the top 5 or so (usually called top-$K$) most probable classes. You'll want to calculate the class probabilities then find the $K$ largest values.\n",
    "\n",
    "To get the top $K$ largest values in a tensor use [`x.topk(k)`](http://pytorch.org/docs/master/torch.html#torch.topk). This method returns both the highest `k` probabilities and the indices of those probabilities corresponding to the classes. You need to convert from these indices to the actual class labels using `class_to_idx` which hopefully you added to the model or from an `ImageFolder` you used to load the data ([see here](#Save-the-checkpoint)). Make sure to invert the dictionary so you get a mapping from index to class as well.\n",
    "\n",
    "Again, this method should take a path to an image and a model checkpoint, then return the probabilities and classes.\n",
    "\n",
    "```python\n",
    "probs, classes = predict(image_path, model)\n",
    "print(probs)\n",
    "print(classes)\n",
    "> [ 0.01558163  0.01541934  0.01452626  0.01443549  0.01407339]\n",
    "> ['70', '3', '45', '62', '55']\n",
    "```"
   ]
  },
  {
   "cell_type": "code",
   "execution_count": null,
   "metadata": {},
   "outputs": [],
   "source": [
    "def predict(image_path, model, topk=5):\n",
    "    ''' Predict the class (or classes) of an image using a trained deep learning model.\n",
    "    '''\n",
    "    \n",
    "    # TODO: Implement the code to predict the class from an image file"
   ]
  },
  {
   "cell_type": "markdown",
   "metadata": {},
   "source": [
    "## Sanity Checking\n",
    "\n",
    "Now that you can use a trained model for predictions, check to make sure it makes sense. Even if the validation accuracy is high, it's always good to check that there aren't obvious bugs. Use `matplotlib` to plot the probabilities for the top 5 classes as a bar graph, along with the input image. It should look like this:\n",
    "\n",
    "<img src='assets/inference_example.png' width=300px>\n",
    "\n",
    "You can convert from the class integer encoding to actual flower names with the `cat_to_name.json` file (should have been loaded earlier in the notebook). To show a PyTorch tensor as an image, use the `imshow` function defined above."
   ]
  },
  {
   "cell_type": "code",
   "execution_count": null,
   "metadata": {},
   "outputs": [],
   "source": [
    "# TODO: Display an image along with the top 5 classes"
   ]
  }
 ],
 "metadata": {
  "kernelspec": {
   "display_name": "Python 3",
   "language": "python",
   "name": "python3"
  },
  "language_info": {
   "codemirror_mode": {
    "name": "ipython",
    "version": 3
   },
   "file_extension": ".py",
   "mimetype": "text/x-python",
   "name": "python",
   "nbconvert_exporter": "python",
   "pygments_lexer": "ipython3",
   "version": "3.7.0"
  }
 },
 "nbformat": 4,
 "nbformat_minor": 2
}
